{
  "nbformat": 4,
  "nbformat_minor": 0,
  "metadata": {
    "colab": {
      "name": "Santiago Pérez González- Parcial 1.ipynb",
      "provenance": [],
      "collapsed_sections": []
    },
    "kernelspec": {
      "name": "python3",
      "display_name": "Python 3"
    },
    "language_info": {
      "name": "python"
    }
  },
  "cells": [
    {
      "cell_type": "markdown",
      "source": [
        "#<center>**Parcial 1**</center>\n",
        "<center><small><b>Presentado por:<br> Santiago Pérez González </small></b></center> \n",
        "\n",
        "---\n",
        "<center>En este archivo se presenta la realización del parcial de Aprendizaje de Máquina <br> <b> Profesor: Camilo Rodríguez </b><br> Universidad Sergio Arboleda</center>"
      ],
      "metadata": {
        "id": "Uf7dvapeo-Yz"
      }
    },
    {
      "cell_type": "markdown",
      "source": [
        "Crear una clase KNN que represente el modelo del vecino más cercano para clasificación:\n",
        "* El constructor debe recibir el número de vecinos\n",
        "* Debe tener un método fit, que reciba X, y\n",
        "* Debe tener un método predict que prediga a que clase pertenece una muestra X\n",
        "* Debe tener un métoto predict_proba que reciba X y devuelva las probabilidades de que pertenezca a cada una de las clases."
      ],
      "metadata": {
        "id": "VursCghGMHc1"
      }
    },
    {
      "cell_type": "markdown",
      "source": [
        "Se crea una clase base para punto 1"
      ],
      "metadata": {
        "id": "FyLUavqWMUjN"
      }
    },
    {
      "cell_type": "code",
      "execution_count": 23,
      "metadata": {
        "id": "l0R4DZWLo6gx"
      },
      "outputs": [],
      "source": [
        "class Model:\n",
        "    def __init__(self):\n",
        "        pass\n",
        "    def fit(X,y):\n",
        "        pass\n",
        "    def predict(X):\n",
        "        pass\n",
        "    def predict_proba(X):\n",
        "        pass"
      ]
    },
    {
      "cell_type": "markdown",
      "source": [
        "##Punto 1\n",
        "\n",
        "Desarrollo de la clase para KNN"
      ],
      "metadata": {
        "id": "CTf-LKdMPN-Q"
      }
    },
    {
      "cell_type": "code",
      "source": [
        "class KNN(Model):\n",
        "    def __init__(self,k):\n",
        "        \"\"\"\n",
        "        Constructor of KNN class\n",
        "        k - that is the neighbor number\n",
        "        \"\"\"\n",
        "        super().__init__()\n",
        "        self.neighbours=k\n",
        "        self.X_train=None\n",
        "        self.y=None\n",
        "    def fit(self,X,y):\n",
        "        \"\"\"\n",
        "        Fit the model with KNN algorithm\n",
        "        X - features\n",
        "        y - target\n",
        "        \"\"\"\n",
        "        self.X_train=X\n",
        "        self.y=y\n",
        "    def predict(self,X):\n",
        "        \"\"\"\n",
        "        Predict the labels of the data\n",
        "        X - features\n",
        "        \"\"\"\n",
        "        prediction=[]\n",
        "        for x in X:\n",
        "            distances=[]\n",
        "            for x_train in self.X_train:\n",
        "                distances.append((x_train,self.distance(x,x_train)))\n",
        "            distances.sort(key=lambda x:x[1])\n",
        "            k_nearest=distances[:self.neighbours]\n",
        "            k_nearest_labels=[]\n",
        "            for k in k_nearest:\n",
        "                k_nearest_labels.append(self.y[self.X_train.index(k[0])])\n",
        "            prediction.append(self.majority(k_nearest_labels))\n",
        "        return prediction\n",
        "    def predict_proba(self,X):\n",
        "        \"\"\"\n",
        "        Predict the probabilities of the data\n",
        "        X - features\n",
        "        Returns the probabilities of the data (for each label)\n",
        "        \"\"\"\n",
        "        for x in X:\n",
        "            distances=[]\n",
        "            for x_train in self.X_train:\n",
        "                distances.append(self.distance(x,x_train))\n",
        "            distances.sort()\n",
        "            k_nearest=distances[:self.neighbours]\n",
        "            k_nearest_labels=[]\n",
        "            for k in k_nearest:\n",
        "                k_nearest_labels.append(self.y[self.X_train[k]])\n",
        "            self.y.append(self.probability(k_nearest_labels))\n",
        "        return (self.y,[1-self.y[i] for i in range(len(self.y))])\n",
        "    def distance(self,x,x_train=None):\n",
        "        \"\"\"\n",
        "        Calculate the distance between two data\n",
        "        x - data\n",
        "        x_train - data\n",
        "        \"\"\"\n",
        "        return sum([(x[i]-x_train[i])**2 for i in range(len(x_train))])\n",
        "    def majority(self,k_nearest_labels):\n",
        "        \"\"\"\n",
        "        Calculate the majority of the labels\n",
        "        k_nearest_labels - labels of the k nearest data\n",
        "        \"\"\"\n",
        "        return max(set(k_nearest_labels),key=k_nearest_labels.count)\n",
        "    def probability(self,k_nearest_labels):\n",
        "        \"\"\"\n",
        "        Calculate the probabilities of the labels\n",
        "        k_nearest_labels - labels of the k nearest data\n",
        "        \"\"\"\n",
        "        return k_nearest_labels.count(self.majority(k_nearest_labels))/self.neighbours"
      ],
      "metadata": {
        "id": "8-IPwbHdPI9L"
      },
      "execution_count": 24,
      "outputs": []
    },
    {
      "cell_type": "markdown",
      "source": [
        "Ejecución"
      ],
      "metadata": {
        "id": "INlAhhisPhhx"
      }
    },
    {
      "cell_type": "code",
      "source": [
        "import numpy as np\n",
        "x1 = np.array([2.3, 2.1, 3.7, 6.1, 6, 9.2, 11.0])\n",
        "x2 = np.array([1.3, 5.1, 0.7, 9.1, 4, 3.3, 5.0])\n",
        "X_train=[[x,y] for x,y in zip(x1,x2)]\n",
        "\n",
        "y = np.array([0, 1, 1, 0, 1, 0, 0])\n",
        "knn = KNN(3)\n",
        "knn.fit(X_train,y)\n",
        "print(knn.predict([[9,5],[3,3]]))"
      ],
      "metadata": {
        "id": "UJ0FFtsLPpbb",
        "colab": {
          "base_uri": "https://localhost:8080/"
        },
        "outputId": "1f33ca1c-e633-4f8f-e4e4-363b3fef2d66"
      },
      "execution_count": 25,
      "outputs": [
        {
          "output_type": "stream",
          "name": "stdout",
          "text": [
            "[0, 1]\n"
          ]
        }
      ]
    },
    {
      "cell_type": "markdown",
      "source": [
        "#Punto 3"
      ],
      "metadata": {
        "id": "hxli_RotRIYn"
      }
    },
    {
      "cell_type": "code",
      "source": [
        "import pandas as pd\n",
        "from sklearn.model_selection import train_test_split\n",
        "from sklearn.model_selection import cross_validate\n",
        "from sklearn.tree import DecisionTreeClassifier\n",
        "from sklearn.linear_model import LogisticRegression\n",
        "from sklearn.neighbors import KNeighborsClassifier\n",
        "from sklearn.preprocessing import StandardScaler"
      ],
      "metadata": {
        "id": "BjNfRLAiR8M6"
      },
      "execution_count": 40,
      "outputs": []
    },
    {
      "cell_type": "code",
      "source": [
        "df = pd.read_csv(\"https://raw.githubusercontent.com/Pasta43/MachineLearning/main/first-term/datasets/heart.csv\")"
      ],
      "metadata": {
        "id": "rMBXouzmR88H"
      },
      "execution_count": 27,
      "outputs": []
    },
    {
      "cell_type": "code",
      "source": [
        "df"
      ],
      "metadata": {
        "colab": {
          "base_uri": "https://localhost:8080/",
          "height": 424
        },
        "id": "UzJ-oILKSGoA",
        "outputId": "2bddc0fa-4fdd-4862-8e57-9eecc410250e"
      },
      "execution_count": 28,
      "outputs": [
        {
          "output_type": "execute_result",
          "data": {
            "text/html": [
              "\n",
              "  <div id=\"df-b1f7deb7-4633-4428-880c-f27924715ecb\">\n",
              "    <div class=\"colab-df-container\">\n",
              "      <div>\n",
              "<style scoped>\n",
              "    .dataframe tbody tr th:only-of-type {\n",
              "        vertical-align: middle;\n",
              "    }\n",
              "\n",
              "    .dataframe tbody tr th {\n",
              "        vertical-align: top;\n",
              "    }\n",
              "\n",
              "    .dataframe thead th {\n",
              "        text-align: right;\n",
              "    }\n",
              "</style>\n",
              "<table border=\"1\" class=\"dataframe\">\n",
              "  <thead>\n",
              "    <tr style=\"text-align: right;\">\n",
              "      <th></th>\n",
              "      <th>age</th>\n",
              "      <th>sex</th>\n",
              "      <th>cp</th>\n",
              "      <th>trestbps</th>\n",
              "      <th>chol</th>\n",
              "      <th>fbs</th>\n",
              "      <th>restecg</th>\n",
              "      <th>thalach</th>\n",
              "      <th>exang</th>\n",
              "      <th>oldpeak</th>\n",
              "      <th>slope</th>\n",
              "      <th>ca</th>\n",
              "      <th>thal</th>\n",
              "      <th>target</th>\n",
              "    </tr>\n",
              "  </thead>\n",
              "  <tbody>\n",
              "    <tr>\n",
              "      <th>0</th>\n",
              "      <td>52</td>\n",
              "      <td>1</td>\n",
              "      <td>0</td>\n",
              "      <td>125</td>\n",
              "      <td>212</td>\n",
              "      <td>0</td>\n",
              "      <td>1</td>\n",
              "      <td>168</td>\n",
              "      <td>0</td>\n",
              "      <td>1.0</td>\n",
              "      <td>2</td>\n",
              "      <td>2</td>\n",
              "      <td>3</td>\n",
              "      <td>0</td>\n",
              "    </tr>\n",
              "    <tr>\n",
              "      <th>1</th>\n",
              "      <td>53</td>\n",
              "      <td>1</td>\n",
              "      <td>0</td>\n",
              "      <td>140</td>\n",
              "      <td>203</td>\n",
              "      <td>1</td>\n",
              "      <td>0</td>\n",
              "      <td>155</td>\n",
              "      <td>1</td>\n",
              "      <td>3.1</td>\n",
              "      <td>0</td>\n",
              "      <td>0</td>\n",
              "      <td>3</td>\n",
              "      <td>0</td>\n",
              "    </tr>\n",
              "    <tr>\n",
              "      <th>2</th>\n",
              "      <td>70</td>\n",
              "      <td>1</td>\n",
              "      <td>0</td>\n",
              "      <td>145</td>\n",
              "      <td>174</td>\n",
              "      <td>0</td>\n",
              "      <td>1</td>\n",
              "      <td>125</td>\n",
              "      <td>1</td>\n",
              "      <td>2.6</td>\n",
              "      <td>0</td>\n",
              "      <td>0</td>\n",
              "      <td>3</td>\n",
              "      <td>0</td>\n",
              "    </tr>\n",
              "    <tr>\n",
              "      <th>3</th>\n",
              "      <td>61</td>\n",
              "      <td>1</td>\n",
              "      <td>0</td>\n",
              "      <td>148</td>\n",
              "      <td>203</td>\n",
              "      <td>0</td>\n",
              "      <td>1</td>\n",
              "      <td>161</td>\n",
              "      <td>0</td>\n",
              "      <td>0.0</td>\n",
              "      <td>2</td>\n",
              "      <td>1</td>\n",
              "      <td>3</td>\n",
              "      <td>0</td>\n",
              "    </tr>\n",
              "    <tr>\n",
              "      <th>4</th>\n",
              "      <td>62</td>\n",
              "      <td>0</td>\n",
              "      <td>0</td>\n",
              "      <td>138</td>\n",
              "      <td>294</td>\n",
              "      <td>1</td>\n",
              "      <td>1</td>\n",
              "      <td>106</td>\n",
              "      <td>0</td>\n",
              "      <td>1.9</td>\n",
              "      <td>1</td>\n",
              "      <td>3</td>\n",
              "      <td>2</td>\n",
              "      <td>0</td>\n",
              "    </tr>\n",
              "    <tr>\n",
              "      <th>...</th>\n",
              "      <td>...</td>\n",
              "      <td>...</td>\n",
              "      <td>...</td>\n",
              "      <td>...</td>\n",
              "      <td>...</td>\n",
              "      <td>...</td>\n",
              "      <td>...</td>\n",
              "      <td>...</td>\n",
              "      <td>...</td>\n",
              "      <td>...</td>\n",
              "      <td>...</td>\n",
              "      <td>...</td>\n",
              "      <td>...</td>\n",
              "      <td>...</td>\n",
              "    </tr>\n",
              "    <tr>\n",
              "      <th>1020</th>\n",
              "      <td>59</td>\n",
              "      <td>1</td>\n",
              "      <td>1</td>\n",
              "      <td>140</td>\n",
              "      <td>221</td>\n",
              "      <td>0</td>\n",
              "      <td>1</td>\n",
              "      <td>164</td>\n",
              "      <td>1</td>\n",
              "      <td>0.0</td>\n",
              "      <td>2</td>\n",
              "      <td>0</td>\n",
              "      <td>2</td>\n",
              "      <td>1</td>\n",
              "    </tr>\n",
              "    <tr>\n",
              "      <th>1021</th>\n",
              "      <td>60</td>\n",
              "      <td>1</td>\n",
              "      <td>0</td>\n",
              "      <td>125</td>\n",
              "      <td>258</td>\n",
              "      <td>0</td>\n",
              "      <td>0</td>\n",
              "      <td>141</td>\n",
              "      <td>1</td>\n",
              "      <td>2.8</td>\n",
              "      <td>1</td>\n",
              "      <td>1</td>\n",
              "      <td>3</td>\n",
              "      <td>0</td>\n",
              "    </tr>\n",
              "    <tr>\n",
              "      <th>1022</th>\n",
              "      <td>47</td>\n",
              "      <td>1</td>\n",
              "      <td>0</td>\n",
              "      <td>110</td>\n",
              "      <td>275</td>\n",
              "      <td>0</td>\n",
              "      <td>0</td>\n",
              "      <td>118</td>\n",
              "      <td>1</td>\n",
              "      <td>1.0</td>\n",
              "      <td>1</td>\n",
              "      <td>1</td>\n",
              "      <td>2</td>\n",
              "      <td>0</td>\n",
              "    </tr>\n",
              "    <tr>\n",
              "      <th>1023</th>\n",
              "      <td>50</td>\n",
              "      <td>0</td>\n",
              "      <td>0</td>\n",
              "      <td>110</td>\n",
              "      <td>254</td>\n",
              "      <td>0</td>\n",
              "      <td>0</td>\n",
              "      <td>159</td>\n",
              "      <td>0</td>\n",
              "      <td>0.0</td>\n",
              "      <td>2</td>\n",
              "      <td>0</td>\n",
              "      <td>2</td>\n",
              "      <td>1</td>\n",
              "    </tr>\n",
              "    <tr>\n",
              "      <th>1024</th>\n",
              "      <td>54</td>\n",
              "      <td>1</td>\n",
              "      <td>0</td>\n",
              "      <td>120</td>\n",
              "      <td>188</td>\n",
              "      <td>0</td>\n",
              "      <td>1</td>\n",
              "      <td>113</td>\n",
              "      <td>0</td>\n",
              "      <td>1.4</td>\n",
              "      <td>1</td>\n",
              "      <td>1</td>\n",
              "      <td>3</td>\n",
              "      <td>0</td>\n",
              "    </tr>\n",
              "  </tbody>\n",
              "</table>\n",
              "<p>1025 rows × 14 columns</p>\n",
              "</div>\n",
              "      <button class=\"colab-df-convert\" onclick=\"convertToInteractive('df-b1f7deb7-4633-4428-880c-f27924715ecb')\"\n",
              "              title=\"Convert this dataframe to an interactive table.\"\n",
              "              style=\"display:none;\">\n",
              "        \n",
              "  <svg xmlns=\"http://www.w3.org/2000/svg\" height=\"24px\"viewBox=\"0 0 24 24\"\n",
              "       width=\"24px\">\n",
              "    <path d=\"M0 0h24v24H0V0z\" fill=\"none\"/>\n",
              "    <path d=\"M18.56 5.44l.94 2.06.94-2.06 2.06-.94-2.06-.94-.94-2.06-.94 2.06-2.06.94zm-11 1L8.5 8.5l.94-2.06 2.06-.94-2.06-.94L8.5 2.5l-.94 2.06-2.06.94zm10 10l.94 2.06.94-2.06 2.06-.94-2.06-.94-.94-2.06-.94 2.06-2.06.94z\"/><path d=\"M17.41 7.96l-1.37-1.37c-.4-.4-.92-.59-1.43-.59-.52 0-1.04.2-1.43.59L10.3 9.45l-7.72 7.72c-.78.78-.78 2.05 0 2.83L4 21.41c.39.39.9.59 1.41.59.51 0 1.02-.2 1.41-.59l7.78-7.78 2.81-2.81c.8-.78.8-2.07 0-2.86zM5.41 20L4 18.59l7.72-7.72 1.47 1.35L5.41 20z\"/>\n",
              "  </svg>\n",
              "      </button>\n",
              "      \n",
              "  <style>\n",
              "    .colab-df-container {\n",
              "      display:flex;\n",
              "      flex-wrap:wrap;\n",
              "      gap: 12px;\n",
              "    }\n",
              "\n",
              "    .colab-df-convert {\n",
              "      background-color: #E8F0FE;\n",
              "      border: none;\n",
              "      border-radius: 50%;\n",
              "      cursor: pointer;\n",
              "      display: none;\n",
              "      fill: #1967D2;\n",
              "      height: 32px;\n",
              "      padding: 0 0 0 0;\n",
              "      width: 32px;\n",
              "    }\n",
              "\n",
              "    .colab-df-convert:hover {\n",
              "      background-color: #E2EBFA;\n",
              "      box-shadow: 0px 1px 2px rgba(60, 64, 67, 0.3), 0px 1px 3px 1px rgba(60, 64, 67, 0.15);\n",
              "      fill: #174EA6;\n",
              "    }\n",
              "\n",
              "    [theme=dark] .colab-df-convert {\n",
              "      background-color: #3B4455;\n",
              "      fill: #D2E3FC;\n",
              "    }\n",
              "\n",
              "    [theme=dark] .colab-df-convert:hover {\n",
              "      background-color: #434B5C;\n",
              "      box-shadow: 0px 1px 3px 1px rgba(0, 0, 0, 0.15);\n",
              "      filter: drop-shadow(0px 1px 2px rgba(0, 0, 0, 0.3));\n",
              "      fill: #FFFFFF;\n",
              "    }\n",
              "  </style>\n",
              "\n",
              "      <script>\n",
              "        const buttonEl =\n",
              "          document.querySelector('#df-b1f7deb7-4633-4428-880c-f27924715ecb button.colab-df-convert');\n",
              "        buttonEl.style.display =\n",
              "          google.colab.kernel.accessAllowed ? 'block' : 'none';\n",
              "\n",
              "        async function convertToInteractive(key) {\n",
              "          const element = document.querySelector('#df-b1f7deb7-4633-4428-880c-f27924715ecb');\n",
              "          const dataTable =\n",
              "            await google.colab.kernel.invokeFunction('convertToInteractive',\n",
              "                                                     [key], {});\n",
              "          if (!dataTable) return;\n",
              "\n",
              "          const docLinkHtml = 'Like what you see? Visit the ' +\n",
              "            '<a target=\"_blank\" href=https://colab.research.google.com/notebooks/data_table.ipynb>data table notebook</a>'\n",
              "            + ' to learn more about interactive tables.';\n",
              "          element.innerHTML = '';\n",
              "          dataTable['output_type'] = 'display_data';\n",
              "          await google.colab.output.renderOutput(dataTable, element);\n",
              "          const docLink = document.createElement('div');\n",
              "          docLink.innerHTML = docLinkHtml;\n",
              "          element.appendChild(docLink);\n",
              "        }\n",
              "      </script>\n",
              "    </div>\n",
              "  </div>\n",
              "  "
            ],
            "text/plain": [
              "      age  sex  cp  trestbps  chol  fbs  restecg  thalach  exang  oldpeak  \\\n",
              "0      52    1   0       125   212    0        1      168      0      1.0   \n",
              "1      53    1   0       140   203    1        0      155      1      3.1   \n",
              "2      70    1   0       145   174    0        1      125      1      2.6   \n",
              "3      61    1   0       148   203    0        1      161      0      0.0   \n",
              "4      62    0   0       138   294    1        1      106      0      1.9   \n",
              "...   ...  ...  ..       ...   ...  ...      ...      ...    ...      ...   \n",
              "1020   59    1   1       140   221    0        1      164      1      0.0   \n",
              "1021   60    1   0       125   258    0        0      141      1      2.8   \n",
              "1022   47    1   0       110   275    0        0      118      1      1.0   \n",
              "1023   50    0   0       110   254    0        0      159      0      0.0   \n",
              "1024   54    1   0       120   188    0        1      113      0      1.4   \n",
              "\n",
              "      slope  ca  thal  target  \n",
              "0         2   2     3       0  \n",
              "1         0   0     3       0  \n",
              "2         0   0     3       0  \n",
              "3         2   1     3       0  \n",
              "4         1   3     2       0  \n",
              "...     ...  ..   ...     ...  \n",
              "1020      2   0     2       1  \n",
              "1021      1   1     3       0  \n",
              "1022      1   1     2       0  \n",
              "1023      2   0     2       1  \n",
              "1024      1   1     3       0  \n",
              "\n",
              "[1025 rows x 14 columns]"
            ]
          },
          "metadata": {},
          "execution_count": 28
        }
      ]
    },
    {
      "cell_type": "code",
      "source": [
        "train, test = train_test_split(df, test_size=0.3, random_state=42)"
      ],
      "metadata": {
        "id": "sO-Xgo0pRIE8"
      },
      "execution_count": 29,
      "outputs": []
    },
    {
      "cell_type": "code",
      "source": [
        "def metric_summary(results):\n",
        "  for key in results.keys():\n",
        "    print(f\"{key}: {results[key].mean()} +- {results[key].std()}\" )"
      ],
      "metadata": {
        "id": "5dhBVIUQSKGk"
      },
      "execution_count": 30,
      "outputs": []
    },
    {
      "cell_type": "code",
      "source": [
        "def scale_data(df):\n",
        "  scaler = StandardScaler()\n",
        "  scaler.fit(df)\n",
        "  scaled=scaler.transform(df)\n",
        "  data_scaled= pd.DataFrame(data=scaled, columns=df.columns)\n",
        "  return data_scaled"
      ],
      "metadata": {
        "id": "crqOpxLcY97z"
      },
      "execution_count": 48,
      "outputs": []
    },
    {
      "cell_type": "code",
      "source": [
        "#Train data\n",
        "X_train = train.drop('target', axis=1)\n",
        "y_train = train['target']\n",
        "\n",
        "#Scaled data\n",
        "scaled= scale_data(train)\n",
        "X_scaled =scaled.drop('target', axis=1)\n",
        "y_scaled = train['target']"
      ],
      "metadata": {
        "id": "1DovuRnFS57d"
      },
      "execution_count": 54,
      "outputs": []
    },
    {
      "cell_type": "code",
      "source": [
        "predictors=[[DecisionTreeClassifier()],[LogisticRegression()],[KNeighborsClassifier(),1],[KNeighborsClassifier(),3],[KNeighborsClassifier(),5],[KNeighborsClassifier(),7]]"
      ],
      "metadata": {
        "id": "dfECAfAHTBYz"
      },
      "execution_count": 55,
      "outputs": []
    },
    {
      "cell_type": "code",
      "source": [
        "for predictor in predictors:\n",
        "  X_to_train=None\n",
        "  y_to_train=None\n",
        "  message=\"\"\n",
        "  clf = None\n",
        "  if (type(predictor[0])==type(DecisionTreeClassifier())):\n",
        "    message=\"Para árbol de clasificación\"\n",
        "    clf=predictor[0]\n",
        "    X_to_train=X_train\n",
        "    y_to_train=y_train\n",
        "  elif (type(predictor[0])==type(LogisticRegression())):\n",
        "    message=\"Para regresión logística\"\n",
        "    clf=predictor[0]\n",
        "    X_to_train=X_scaled\n",
        "    y_to_train=y_scaled\n",
        "  elif (type(predictor[0])==type(KNeighborsClassifier())):\n",
        "    message=\"Para KNN con \"+str(predictor[1]) +\" vecinos\"\n",
        "    clf=predictor[0]\n",
        "    clf.n_neighbors=predictor[1]\n",
        "    X_to_train=X_scaled\n",
        "    y_to_train=y_scaled\n",
        "  results = cross_validate(clf, X_to_train, y_to_train,\n",
        "               cv=10, scoring=['accuracy', 'precision', 'recall', 'f1'])\n",
        "  print(message)\n",
        "  metric_summary(results)"
      ],
      "metadata": {
        "colab": {
          "base_uri": "https://localhost:8080/"
        },
        "id": "eE5niNxFXGP4",
        "outputId": "85e06907-dafc-44c1-e458-ab9931f21957"
      },
      "execution_count": 58,
      "outputs": [
        {
          "output_type": "stream",
          "name": "stdout",
          "text": [
            "Para árbol de clasificación\n",
            "fit_time: 0.004210114479064941 +- 0.001113247140206847\n",
            "score_time: 0.004598784446716309 +- 0.00040638786425280634\n",
            "test_accuracy: 0.9804186228482005 +- 0.020046318047188916\n",
            "test_precision: 0.9775174725431464 +- 0.03358807116510971\n",
            "test_recall: 0.9866998577524895 +- 0.01797349506497893\n",
            "test_f1: 0.9816664918622335 +- 0.01856797971632296\n",
            "Para regresión logística\n",
            "fit_time: 0.007432079315185547 +- 0.0027730052628599333\n",
            "score_time: 0.005407547950744629 +- 0.0015777892167168803\n",
            "test_accuracy: 0.8561815336463224 +- 0.04737068780513644\n",
            "test_precision: 0.8368690094429585 +- 0.06025973752785159\n",
            "test_recall: 0.9096728307254622 +- 0.0342341028881737\n",
            "test_f1: 0.8702748709170786 +- 0.03791373155535019\n",
            "Para KNN con 1 vecinos\n",
            "fit_time: 0.0031867027282714844 +- 0.00023293312154029383\n",
            "score_time: 0.007785820960998535 +- 0.0017305433226137879\n",
            "test_accuracy: 0.9776408450704224 +- 0.025948886296008618\n",
            "test_precision: 0.9707750379701598 +- 0.04278663074174251\n",
            "test_recall: 0.9893314366998578 +- 0.01780084234533218\n",
            "test_f1: 0.9793678571779838 +- 0.02351635783181466\n",
            "Para KNN con 3 vecinos\n",
            "fit_time: 0.003290677070617676 +- 0.000286983255233516\n",
            "score_time: 0.008562135696411132 +- 0.0009536959514548042\n",
            "test_accuracy: 0.8828247261345853 +- 0.03599235810777752\n",
            "test_precision: 0.8795739420731211 +- 0.05280324406878027\n",
            "test_recall: 0.9044807965860597 +- 0.021565984604846374\n",
            "test_f1: 0.8910158786386857 +- 0.030812816516584123\n",
            "Para KNN con 5 vecinos\n",
            "fit_time: 0.003602123260498047 +- 0.0005188886568194164\n",
            "score_time: 0.010012197494506835 +- 0.0011667764553653472\n",
            "test_accuracy: 0.8520931142410015 +- 0.0440780659985225\n",
            "test_precision: 0.8390540018677181 +- 0.05334950776148411\n",
            "test_recall: 0.8935277382645804 +- 0.048563568886800856\n",
            "test_f1: 0.8642441524784363 +- 0.04011031670145653\n",
            "Para KNN con 7 vecinos\n",
            "fit_time: 0.004310512542724609 +- 0.0008563401166038554\n",
            "score_time: 0.013145160675048829 +- 0.004203211588779457\n",
            "test_accuracy: 0.8562597809076683 +- 0.042342072341776026\n",
            "test_precision: 0.8416525983981227 +- 0.06120750487939832\n",
            "test_recall: 0.9014935988620199 +- 0.04060817646633189\n",
            "test_f1: 0.8689894663286823 +- 0.03708121902722568\n"
          ]
        }
      ]
    },
    {
      "cell_type": "markdown",
      "source": [
        "Teniendo en cuenta lo anterior, el mejor puntaje lo obtuvo el árbol de clasificación con:\n",
        "* *accuracy* de  0.9804186228482005,\n",
        "* *precision* de 0.9775174725431464\n",
        "* *recall* de 0.9866998577524895 y\n",
        "* $f_{1measure}$ de  0.9816664918622335"
      ],
      "metadata": {
        "id": "_iZIDjBKb8pw"
      }
    },
    {
      "cell_type": "code",
      "source": [
        "from sklearn.metrics import accuracy_score,precision_score,recall_score,f1_score"
      ],
      "metadata": {
        "id": "NZuxu8CiTYEF"
      },
      "execution_count": 59,
      "outputs": []
    },
    {
      "cell_type": "code",
      "source": [
        "clf=DecisionTreeClassifier()"
      ],
      "metadata": {
        "id": "Fer5XIX4db8e"
      },
      "execution_count": 60,
      "outputs": []
    },
    {
      "cell_type": "code",
      "source": [
        "clf.fit(X_train,y_train)"
      ],
      "metadata": {
        "colab": {
          "base_uri": "https://localhost:8080/"
        },
        "id": "0rLQ0PCGdjH4",
        "outputId": "6b28efa6-c3c6-4896-f26e-10382f1550bd"
      },
      "execution_count": 61,
      "outputs": [
        {
          "output_type": "execute_result",
          "data": {
            "text/plain": [
              "DecisionTreeClassifier()"
            ]
          },
          "metadata": {},
          "execution_count": 61
        }
      ]
    },
    {
      "cell_type": "code",
      "source": [
        "#test data\n",
        "X_test = test.drop('target', axis=1)\n",
        "y_test = test['target']"
      ],
      "metadata": {
        "id": "cnP3ssYmd2Uo"
      },
      "execution_count": 62,
      "outputs": []
    },
    {
      "cell_type": "code",
      "source": [
        "y_predict=clf.predict(X_test)"
      ],
      "metadata": {
        "id": "AYah6ugDeCO4"
      },
      "execution_count": 63,
      "outputs": []
    },
    {
      "cell_type": "code",
      "source": [
        "from sklearn.metrics import confusion_matrix\n",
        "confusion_matrix(y_test, y_predict)"
      ],
      "metadata": {
        "colab": {
          "base_uri": "https://localhost:8080/"
        },
        "id": "8nVRRUIWgIav",
        "outputId": "641cea3b-9a12-4584-ccfc-20add5eb47ac"
      },
      "execution_count": 65,
      "outputs": [
        {
          "output_type": "execute_result",
          "data": {
            "text/plain": [
              "array([[159,   0],\n",
              "       [  9, 140]])"
            ]
          },
          "metadata": {},
          "execution_count": 65
        }
      ]
    },
    {
      "cell_type": "code",
      "source": [
        "print(\"Accuracy:\", accuracy_score(y_test,y_predict),\n",
        "      \"Precision:\",precision_score(y_test,y_predict),\n",
        "      \"Recall:\",recall_score(y_test,y_predict),\n",
        "      \"f1:\",f1_score(y_test,y_predict))"
      ],
      "metadata": {
        "colab": {
          "base_uri": "https://localhost:8080/"
        },
        "id": "ejHXnFj7dqFg",
        "outputId": "0f523105-76ef-46ee-feb4-008a1610fd9a"
      },
      "execution_count": 64,
      "outputs": [
        {
          "output_type": "stream",
          "name": "stdout",
          "text": [
            "Accuracy: 0.9707792207792207 Precision: 1.0 Recall: 0.9395973154362416 f1: 0.9688581314878892\n"
          ]
        }
      ]
    },
    {
      "cell_type": "markdown",
      "source": [
        "## Análisis de resultados\n",
        "\n",
        "Al realizar el entrenamiento se corría el riesgo de obtener overfitting, pero el árbol de clasificación mostró un alto desempeño con los datos de prueba dando como resultado los puntajes de \n",
        "\n",
        "* Accuracy: 0.9707792207792207\n",
        "* Precision: 1.0 \n",
        "* Recall: 0.9395973154362416 \n",
        "* f1: 0.9688581314878892\n",
        "\n",
        "Indicando que parece que se tiene buen modelo con la técnica del árbol de clasificación para estos datos dado el contexto del problema es decir (se obtuvo una precisión alta y un recall bajo, que es preferido para la empresa prestadora de salud en no gastar tiempo y dinero en procedimientos médicos en alguien que no tenga riesgo de padecer un ataque al corazón):\n",
        "\n",
        "\n",
        "\n",
        "Añadendo a esto, analizando la matriz de confusión, se obtiene:\n",
        "* De 168 personas que tienen riesgo de padecer un ataque al corazón, detectó 159\n",
        "* El modelo no tuvo error al detectar a alguien que no tenía riesgo de ataque al corazón, es decir, de 140 personas sin riesgo de padecer ataques al corazón, no determinó que ninguna de estas tuviera dicho riesgo.\n",
        "* De 9 personas que tenían riesgo de padecer un ataque al corazón, fueron predichas en que no tenían dicho riesgo"
      ],
      "metadata": {
        "id": "gj-K_xVXeiLc"
      }
    },
    {
      "cell_type": "code",
      "source": [
        ""
      ],
      "metadata": {
        "id": "kJARNLTRh_GP"
      },
      "execution_count": null,
      "outputs": []
    }
  ]
}